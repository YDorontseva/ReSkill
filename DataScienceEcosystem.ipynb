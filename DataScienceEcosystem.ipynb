{
 "cells": [
  {
   "cell_type": "markdown",
   "id": "f3334e27-76a3-4f22-ab0e-9acf12f297cc",
   "metadata": {},
   "source": [
    "# Data Science Tools and ecosystem"
   ]
  },
  {
   "cell_type": "markdown",
   "id": "12f3e12c-693c-49a4-a156-116861af3310",
   "metadata": {},
   "source": [
    "In this notebook, Data Science tools and Ecosystem are summarized"
   ]
  },
  {
   "cell_type": "markdown",
   "id": "b1856964-23b3-4778-b585-1e99e9c8d057",
   "metadata": {},
   "source": [
    "Some of the popular languages that Data Scientists use are:\n",
    "1. Python\n",
    "2. R\n",
    "3. Julia\n",
    "4. SQL\n",
    "5. Scala"
   ]
  },
  {
   "cell_type": "markdown",
   "id": "65a250a8-be0c-4118-9c9e-a671020a4f90",
   "metadata": {},
   "source": [
    "Some of the commonly used libraries used by Data Scientists include:\n",
    "1. Pandas (Python)\n",
    "2. Numpy (Python)\n",
    "3. Matplotlib (Python)\n",
    "4. Dplyr (R)\n",
    "5. ggplot (R)"
   ]
  },
  {
   "cell_type": "markdown",
   "id": "f39e4bfb-1507-4ce8-81c4-58a7c5df67d7",
   "metadata": {},
   "source": [
    "**Objectives:**\n",
    "* Some of the popular languages that Data Scientists use\n",
    "* Some of the commonly used libraries used by Data Scientists\n",
    "* Data Science Tools\n",
    "* Arithmetic expression examples"
   ]
  },
  {
   "cell_type": "markdown",
   "id": "9b3ec58d-6943-438a-8621-3ece80ed7a5a",
   "metadata": {},
   "source": [
    "|Data Science Tools|\n",
    "|:----------------:|\n",
    "|  Jupyter Notebook   |\n",
    "|  RStudio   |\n",
    "|  VSCode  |"
   ]
  },
  {
   "cell_type": "markdown",
   "id": "ebd5a543-9990-4970-8d40-dc69233c9efc",
   "metadata": {},
   "source": [
    "### Below are a few examples of evaluating arithmetic expressions in Python\n",
    "2+2 <br>\n",
    "5-3 <br>\n",
    "3*2 <br>\n",
    "9/3 <br>"
   ]
  },
  {
   "cell_type": "code",
   "execution_count": 11,
   "id": "9fe3d137-120c-4018-af82-84d79c3f6f2a",
   "metadata": {},
   "outputs": [
    {
     "data": {
      "text/plain": [
       "17"
      ]
     },
     "execution_count": 11,
     "metadata": {},
     "output_type": "execute_result"
    }
   ],
   "source": [
    "# This a simple arithmetic expression to mutiply then add integers\n",
    "(3*4)+5"
   ]
  },
  {
   "cell_type": "code",
   "execution_count": 12,
   "id": "e8c7b45f-fee0-4933-b0e3-11be615c1ad8",
   "metadata": {},
   "outputs": [
    {
     "data": {
      "text/plain": [
       "3.3333333333333335"
      ]
     },
     "execution_count": 12,
     "metadata": {},
     "output_type": "execute_result"
    }
   ],
   "source": [
    "# This will convert 200 minutes to hours by diving by 60\n",
    "200 / 60"
   ]
  },
  {
   "cell_type": "markdown",
   "id": "7afd1111-37d4-40a5-8db8-ce719fec2545",
   "metadata": {},
   "source": [
    "## Author:\n",
    "Yelyzaveta Dorontseva"
   ]
  },
  {
   "cell_type": "code",
   "execution_count": null,
   "id": "7f37585d-1ce7-4d76-a893-bc12303d7069",
   "metadata": {},
   "outputs": [],
   "source": []
  }
 ],
 "metadata": {
  "kernelspec": {
   "display_name": "Python 3 (ipykernel)",
   "language": "python",
   "name": "python3"
  },
  "language_info": {
   "codemirror_mode": {
    "name": "ipython",
    "version": 3
   },
   "file_extension": ".py",
   "mimetype": "text/x-python",
   "name": "python",
   "nbconvert_exporter": "python",
   "pygments_lexer": "ipython3",
   "version": "3.11.5"
  }
 },
 "nbformat": 4,
 "nbformat_minor": 5
}
